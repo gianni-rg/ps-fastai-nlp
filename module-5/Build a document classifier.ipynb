{
 "cells": [
  {
   "cell_type": "markdown",
   "metadata": {},
   "source": [
    "# Build a document classifier"
   ]
  },
  {
   "cell_type": "code",
   "execution_count": null,
   "metadata": {},
   "outputs": [],
   "source": [
    "%reload_ext autoreload\n",
    "%autoreload 2\n",
    "%matplotlib inline"
   ]
  },
  {
   "cell_type": "code",
   "execution_count": null,
   "metadata": {},
   "outputs": [],
   "source": [
    "from fastai.text import *"
   ]
  },
  {
   "cell_type": "code",
   "execution_count": null,
   "metadata": {},
   "outputs": [],
   "source": [
    "torch.cuda.set_device(0)"
   ]
  },
  {
   "cell_type": "code",
   "execution_count": null,
   "metadata": {},
   "outputs": [],
   "source": [
    "torch.cuda.empty_cache() "
   ]
  },
  {
   "cell_type": "markdown",
   "metadata": {},
   "source": [
    "## Preparing the data"
   ]
  },
  {
   "cell_type": "markdown",
   "metadata": {},
   "source": [
    "First let's download the dataset we are going to study from here: http://qwone.com/~jason/20Newsgroups/\n",
    "\n",
    "The 20 Newsgroups data set is a collection of approximately 20,000 newsgroup documents, partitioned (nearly) evenly across 20 different newsgroups. The 20 newsgroups collection has become a popular data set for experiments in text applications of machine learning techniques, such as text classification and text clustering.\n",
    "\n",
    "The data is organized into 20 different newsgroups, each corresponding to a different topic. Some of the newsgroups are very closely related to each other (ie. comp.sys.ibm.pc.hardware / comp.sys.mac.hardware), while others are highly unrelated (ie. misc.forsale / soc.religion.christian). Here is a list of the 20 newsgroups, partitioned (more or less) according to subject matter:\n",
    "\n",
    "\tcomp.graphics\n",
    "\tcomp.os.ms-windows.misc\n",
    "\tcomp.sys.ibm.pc.hardware\n",
    "\tcomp.sys.mac.hardware\n",
    "\tcomp.windows.x\n",
    "\trec.autos\n",
    "\trec.motorcycles\n",
    "\trec.sport.baseball\n",
    "\trec.sport.hockey\n",
    "\tsci.crypt\n",
    "\tsci.electronics\n",
    "\tsci.med\n",
    "\tsci.space\n",
    "\tmisc.forsale\n",
    "\ttalk.politics.misc\n",
    "\ttalk.politics.guns\n",
    "\ttalk.politics.mideast\n",
    "\ttalk.religion.misc\n",
    "\talt.atheism\n",
    "    soc.religion.christian\n",
    "    \n",
    "We use the \"bydate\" version, sorted by date into training (60%) and test (40%) sets (it's more realistic because the train and test sets are separated in time). It also has been cleaned, it does not include cross-posts (duplicates) and does not include newsgroup-identifying headers (Xref, Newsgroups, Path, Followup-To, Date). In total there are **18846 documents**."
   ]
  },
  {
   "cell_type": "code",
   "execution_count": null,
   "metadata": {},
   "outputs": [],
   "source": [
    "DATA_PATH = Path('../datasets/20news')\n",
    "DATA_PATH.mkdir(exist_ok=True)"
   ]
  },
  {
   "cell_type": "markdown",
   "metadata": {},
   "source": [
    "### Data pre-processing"
   ]
  },
  {
   "cell_type": "markdown",
   "metadata": {},
   "source": [
    "Pre-process dataset (rename all files without extension to .txt). These steps must be performed only once."
   ]
  },
  {
   "cell_type": "code",
   "execution_count": null,
   "metadata": {},
   "outputs": [],
   "source": [
    "import codecs"
   ]
  },
  {
   "cell_type": "code",
   "execution_count": null,
   "metadata": {},
   "outputs": [],
   "source": [
    "for path, subdirs, files in os.walk(DATA_PATH):\n",
    "    for name in files:\n",
    "        fullpath = pathlib.PurePath(path, name)\n",
    "        os.rename(fullpath, str(fullpath) + '.txt')"
   ]
  },
  {
   "cell_type": "markdown",
   "metadata": {},
   "source": [
    "Convert ANSI files to UTF-8 encoding"
   ]
  },
  {
   "cell_type": "code",
   "execution_count": null,
   "metadata": {},
   "outputs": [],
   "source": [
    "for path, subdirs, files in os.walk(DATA_PATH):\n",
    "    for name in files:\n",
    "        fullpath = pathlib.PurePath(path, name)\n",
    "        try:\n",
    "            #read input file\n",
    "            with codecs.open(fullpath, 'r', encoding = 'utf8') as file:\n",
    "                lines = file.read()\n",
    "        except:\n",
    "            with codecs.open(fullpath, 'r', encoding = 'ansi') as file:\n",
    "                lines = file.read()\n",
    "            #write output file\n",
    "            with codecs.open(fullpath, 'w', encoding = 'utf8') as file:\n",
    "                file.write(lines)  "
   ]
  },
  {
   "cell_type": "markdown",
   "metadata": {},
   "source": [
    "By executing this line a process was launched that took a bit of time. Let's dig a bit into it. Images could be fed (almost) directly into a model because they're just a big array of pixel values that are floats between 0 and 1. A text is composed of words, and we can't apply mathematical functions to them directly. We first have to convert them to numbers. This is done in two differents steps: tokenization and numericalization. A TextDataBunch does all of that behind the scenes for you.\n",
    "\n",
    "Before we delve into the explanations, let's take the time to save the things that were calculated."
   ]
  },
  {
   "cell_type": "code",
   "execution_count": null,
   "metadata": {},
   "outputs": [],
   "source": [
    "data.save()"
   ]
  },
  {
   "cell_type": "markdown",
   "metadata": {},
   "source": [
    "Next time we launch this notebook, we can skip the cell above that took a bit of time and load the final results like this:"
   ]
  },
  {
   "cell_type": "code",
   "execution_count": null,
   "metadata": {},
   "outputs": [],
   "source": [
    "data = TextDataBunch.load(DATA_PATH)"
   ]
  },
  {
   "cell_type": "markdown",
   "metadata": {},
   "source": [
    "### Tokenization"
   ]
  },
  {
   "cell_type": "markdown",
   "metadata": {},
   "source": [
    "The first step of processing we make texts go through is to split the raw sentences into words, or more exactly tokens. The easiest way to do this would be to split the string on spaces, but we can be smarter:\n",
    "\n",
    "- we need to take care of punctuation\n",
    "- some words are contractions of two different words, like isn't or don't\n",
    "- we may need to clean some parts of our texts, if there's HTML code for instance\n",
    "\n",
    "To see what the tokenizer had done behind the scenes, let's have a look at a few texts in a batch."
   ]
  },
  {
   "cell_type": "code",
   "execution_count": null,
   "metadata": {},
   "outputs": [],
   "source": [
    "data = TextClasDataBunch.load(DATA_PATH)"
   ]
  },
  {
   "cell_type": "code",
   "execution_count": null,
   "metadata": {},
   "outputs": [],
   "source": [
    "data.show_batch()"
   ]
  },
  {
   "cell_type": "markdown",
   "metadata": {},
   "source": [
    "The texts are truncated at 100 tokens for more readability. We can see that it did more than just split on space and punctuation symbols: \n",
    "- the \"'s\" are grouped together in one token\n",
    "- the contractions are separated like his: \"did\", \"n't\"\n",
    "- content has been cleaned for any HTML symbol and lower cased\n",
    "- there are several special tokens (all those that begin by xx), to replace unkown tokens (see below) or to introduce different text fields (here we only have one)."
   ]
  },
  {
   "cell_type": "markdown",
   "metadata": {},
   "source": [
    "### Numericalization"
   ]
  },
  {
   "cell_type": "markdown",
   "metadata": {},
   "source": [
    "Once we have extracted tokens from our texts, we convert to integers by creating a list of all the words used. We only keep the ones that appear at list twice with a maximum vocabulary size of 60,000 (by default) and replace the ones that don't make the cut by the unknown token `UNK`.\n",
    "\n",
    "The correspondance from ids tokens is stored in the `vocab` attribute of our datasets, in a dictionary called `itos` (for int to string)."
   ]
  },
  {
   "cell_type": "code",
   "execution_count": null,
   "metadata": {},
   "outputs": [],
   "source": [
    "data.vocab.itos[:10]"
   ]
  },
  {
   "cell_type": "markdown",
   "metadata": {},
   "source": [
    "And if we look at what a what's in our datasets, we'll see the tokenized text as a representation:"
   ]
  },
  {
   "cell_type": "code",
   "execution_count": null,
   "metadata": {},
   "outputs": [],
   "source": [
    "data.train_ds[0][0]"
   ]
  },
  {
   "cell_type": "markdown",
   "metadata": {},
   "source": [
    "But the underlying data is all numbers"
   ]
  },
  {
   "cell_type": "code",
   "execution_count": null,
   "metadata": {},
   "outputs": [],
   "source": [
    "data.train_ds[0][0].data[:10]"
   ]
  },
  {
   "cell_type": "markdown",
   "metadata": {},
   "source": [
    "## Language model"
   ]
  },
  {
   "cell_type": "markdown",
   "metadata": {},
   "source": [
    "Note that language models can use a lot of GPU, so you may need to decrease batchsize here."
   ]
  },
  {
   "cell_type": "code",
   "execution_count": null,
   "metadata": {},
   "outputs": [],
   "source": [
    "bs = 32"
   ]
  },
  {
   "cell_type": "markdown",
   "metadata": {},
   "source": [
    "Newsgroup documents are in a training and test set following an imagenet structure, with `train` and `test` folders that contains train and test data, respectively. Under each folder, documents are organized in subfolders, one for each class.\n",
    "\n",
    "We're not going to train a model that classifies the documents from scratch. Like in computer vision, we'll use a model pretrained on a bigger dataset (a cleaned subset of wikipeia called [wikitext-103](https://einstein.ai/research/blog/the-wikitext-long-term-dependency-language-modeling-dataset)). That model has been trained to guess what the next word, its input being all the previous words. It has a recurrent structure and a hidden state that is updated each time it sees a new word. This hidden state thus contains information about the sentence up to that point.\n",
    "\n",
    "We are going to use that 'knowledge' of the English language to build our classifier, but first, like for computer vision, we need to fine-tune the pretrained model to our particular dataset. Because the English of the documents in the newsgroup isn't the same as the English of wikipedia, we'll need to adjust a little bit the parameters of our model. Plus there might be some words extremely common in that dataset that were barely present in wikipedia, and therefore might no be part of the vocabulary the model was trained on."
   ]
  },
  {
   "cell_type": "markdown",
   "metadata": {},
   "source": [
    "Let's create our data object with the data block API (next line takes a few minutes)."
   ]
  },
  {
   "cell_type": "code",
   "execution_count": null,
   "metadata": {
    "scrolled": true
   },
   "outputs": [],
   "source": [
    "data_lm = (TextList.from_folder(DATA_PATH)\n",
    "           # Inputs: all the text files in path\n",
    "           # We may have other temp folders that contain text files so we only keep what's in train and test\n",
    "            .filter_by_folder(include=['20news-bydate-train', '20news-bydate-test']) \n",
    "           # We randomly split and keep 10% (10,000 reviews) for validation\n",
    "            .random_split_by_pct(0.1) \n",
    "           # We want to do a language model so we label accordingly\n",
    "            .label_for_lm()\n",
    "            .databunch(bs=bs))\n",
    "data_lm.save('tmp_lm')"
   ]
  },
  {
   "cell_type": "markdown",
   "metadata": {},
   "source": [
    "We have to use a special kind of `TextDataBunch` for the language model, that ignores the labels (that's why we put 0 everywhere), will shuffle the texts at each epoch before concatenating them all together (only for training, we don't shuffle for the validation set) and will send batches that read that text in order with targets that are the next word in the sentence.\n",
    "\n",
    "The line before being a bit long, we want to load quickly the final ids by using the following cell."
   ]
  },
  {
   "cell_type": "code",
   "execution_count": null,
   "metadata": {},
   "outputs": [],
   "source": [
    "data_lm = TextLMDataBunch.load(DATA_PATH, 'tmp_lm', bs=bs)"
   ]
  },
  {
   "cell_type": "code",
   "execution_count": null,
   "metadata": {},
   "outputs": [],
   "source": [
    "data_lm.show_batch()"
   ]
  },
  {
   "cell_type": "markdown",
   "metadata": {},
   "source": [
    "We can then put this in a learner object very easily with a model loaded with the pretrained weights. They'll be downloaded the first time you'll execute the following line and stored in `~/.fastai/models/` (or elsewhere if you specified different paths in your config file)."
   ]
  },
  {
   "cell_type": "code",
   "execution_count": null,
   "metadata": {},
   "outputs": [],
   "source": [
    "learn = language_model_learner(data_lm, pretrained_model=URLs.WT103_1, drop_mult=0.3)"
   ]
  },
  {
   "cell_type": "code",
   "execution_count": null,
   "metadata": {},
   "outputs": [],
   "source": [
    "learn.lr_find()"
   ]
  },
  {
   "cell_type": "code",
   "execution_count": null,
   "metadata": {},
   "outputs": [],
   "source": [
    "learn.recorder.plot(skip_end=15)"
   ]
  },
  {
   "cell_type": "code",
   "execution_count": null,
   "metadata": {},
   "outputs": [],
   "source": [
    "learn.fit_one_cycle(1, 1e-2, moms=(0.8,0.7))"
   ]
  },
  {
   "cell_type": "code",
   "execution_count": null,
   "metadata": {},
   "outputs": [],
   "source": [
    "learn.save('fit_head')"
   ]
  },
  {
   "cell_type": "code",
   "execution_count": null,
   "metadata": {},
   "outputs": [],
   "source": [
    "learn.load('fit_head');"
   ]
  },
  {
   "cell_type": "markdown",
   "metadata": {},
   "source": [
    "To complete the fine-tuning, we can then unfeeze and launch a new training."
   ]
  },
  {
   "cell_type": "code",
   "execution_count": null,
   "metadata": {},
   "outputs": [],
   "source": [
    "learn.unfreeze()"
   ]
  },
  {
   "cell_type": "code",
   "execution_count": null,
   "metadata": {},
   "outputs": [],
   "source": [
    "learn.fit_one_cycle(10, 1e-3, moms=(0.8,0.7))"
   ]
  },
  {
   "cell_type": "code",
   "execution_count": null,
   "metadata": {},
   "outputs": [],
   "source": [
    "learn.save('fine_tuned')"
   ]
  },
  {
   "cell_type": "markdown",
   "metadata": {},
   "source": [
    "How good is our model? Well let's try to see what it predicts after a few given words."
   ]
  },
  {
   "cell_type": "code",
   "execution_count": null,
   "metadata": {},
   "outputs": [],
   "source": [
    "learn.load('fine_tuned');"
   ]
  },
  {
   "cell_type": "code",
   "execution_count": null,
   "metadata": {},
   "outputs": [],
   "source": [
    "TEXT = \"we think that computer graphics hardware will\"\n",
    "N_WORDS = 40\n",
    "N_SENTENCES = 2"
   ]
  },
  {
   "cell_type": "code",
   "execution_count": null,
   "metadata": {},
   "outputs": [],
   "source": [
    "print(\"\\n\".join(learn.predict(TEXT, N_WORDS, temperature=0.75) for _ in range(N_SENTENCES)))"
   ]
  },
  {
   "cell_type": "markdown",
   "metadata": {},
   "source": [
    "We have to save the model but also it's encoder, the part that's responsible for creating and updating the hidden state. For the next part, we don't care about the part that tries to guess the next word."
   ]
  },
  {
   "cell_type": "code",
   "execution_count": null,
   "metadata": {},
   "outputs": [],
   "source": [
    "learn.save_encoder('fine_tuned_enc')"
   ]
  },
  {
   "cell_type": "markdown",
   "metadata": {},
   "source": [
    "## Classifier"
   ]
  },
  {
   "cell_type": "markdown",
   "metadata": {},
   "source": [
    "Now, we'll create a new data object that only grabs the labelled data and keeps those labels. We need to perform the pre-processing to build our newsgroup databunch in such a way that the vocabulary used to fine-tune the language model is the same. So, just load the fine-tuned language model dataset:"
   ]
  },
  {
   "cell_type": "code",
   "execution_count": null,
   "metadata": {},
   "outputs": [],
   "source": [
    "bs = 12"
   ]
  },
  {
   "cell_type": "code",
   "execution_count": null,
   "metadata": {},
   "outputs": [],
   "source": [
    "classes = ['alt.atheism', 'comp.graphics', 'comp.os.ms-windows.misc', 'comp.sys.ibm.pc.hardware',\n",
    "           'comp.sys.mac.hardware', 'comp.windows.x', 'misc.forsale', 'rec.autos', 'rec.motorcycles',\n",
    "           'rec.sport.baseball', 'rec.sport.hockey', 'sci.crypt', 'sci.electronics', 'sci.med', 'sci.space',\n",
    "           'soc.religion.christian', 'talk.politics.guns', 'talk.politics.mideast', 'talk.politics.misc',\n",
    "           'talk.religion.misc']"
   ]
  },
  {
   "cell_type": "code",
   "execution_count": null,
   "metadata": {},
   "outputs": [],
   "source": [
    "data_lm = TextLMDataBunch.load(DATA_PATH, bs=bs, cache_name='tmp_lm')"
   ]
  },
  {
   "cell_type": "markdown",
   "metadata": {},
   "source": [
    "and use its vocabulary to prepare the classification dataset:"
   ]
  },
  {
   "cell_type": "code",
   "execution_count": null,
   "metadata": {},
   "outputs": [],
   "source": [
    "data_clas = TextClasDataBunch.from_folder(DATA_PATH, train='20news-bydate-train', valid='20news-bydate-test', classes=classes, vocab=data_lm.vocab)"
   ]
  },
  {
   "cell_type": "markdown",
   "metadata": {},
   "source": [
    "By executing this line, a process was launched that took a bit of time. Let's dig a bit into it. Images could be fed (almost) directly into a model because they're just a big array of pixel values that are floats between 0 and 1. A text is composed of words, and we can't apply mathematical functions to them directly. We first have to convert them to numbers. This is done in two differents steps: tokenization and numericalization. A TextDataBunch does all of that behind the scenes for you.\n",
    "\n",
    "Before we delve into the explanations, let's take the time to save the things that were calculated."
   ]
  },
  {
   "cell_type": "code",
   "execution_count": null,
   "metadata": {},
   "outputs": [],
   "source": [
    "data_clas.save('tmp_clas')"
   ]
  },
  {
   "cell_type": "markdown",
   "metadata": {},
   "source": [
    "Next time we launch this notebook, we can skip the cell above that took a bit of time and load the final results like this:"
   ]
  },
  {
   "cell_type": "code",
   "execution_count": null,
   "metadata": {},
   "outputs": [],
   "source": [
    "data_clas = TextClasDataBunch.load(DATA_PATH, 'tmp_clas', bs=bs)"
   ]
  },
  {
   "cell_type": "code",
   "execution_count": null,
   "metadata": {},
   "outputs": [],
   "source": [
    "data_clas.show_batch( )"
   ]
  },
  {
   "cell_type": "markdown",
   "metadata": {},
   "source": [
    "Let's verify that language model vocabulary is the same as the classification vocabulary:"
   ]
  },
  {
   "cell_type": "code",
   "execution_count": null,
   "metadata": {},
   "outputs": [],
   "source": [
    "len(data_lm.vocab.itos)"
   ]
  },
  {
   "cell_type": "code",
   "execution_count": null,
   "metadata": {},
   "outputs": [],
   "source": [
    "len(data_clas.vocab.itos)"
   ]
  },
  {
   "cell_type": "markdown",
   "metadata": {},
   "source": [
    "We can then create a model to classify those documents and load the encoder we saved before."
   ]
  },
  {
   "cell_type": "code",
   "execution_count": null,
   "metadata": {},
   "outputs": [],
   "source": [
    "drop_mult = 0.5"
   ]
  },
  {
   "cell_type": "code",
   "execution_count": null,
   "metadata": {},
   "outputs": [],
   "source": [
    "learn = text_classifier_learner(data_clas, drop_mult=drop_mult)\n",
    "learn.load_encoder('fine_tuned_enc')\n",
    "learn.freeze()"
   ]
  },
  {
   "cell_type": "code",
   "execution_count": null,
   "metadata": {},
   "outputs": [],
   "source": [
    "gc.collect();"
   ]
  },
  {
   "cell_type": "code",
   "execution_count": null,
   "metadata": {},
   "outputs": [],
   "source": [
    "learn.lr_find()"
   ]
  },
  {
   "cell_type": "code",
   "execution_count": null,
   "metadata": {},
   "outputs": [],
   "source": [
    "learn.recorder.plot()"
   ]
  },
  {
   "cell_type": "code",
   "execution_count": null,
   "metadata": {},
   "outputs": [],
   "source": [
    "learn.fit_one_cycle(1, 5e-2, moms=(0.8,0.7))"
   ]
  },
  {
   "cell_type": "markdown",
   "metadata": {},
   "source": [
    "Let's train it again, some more time:"
   ]
  },
  {
   "cell_type": "code",
   "execution_count": null,
   "metadata": {},
   "outputs": [],
   "source": [
    "learn.fit_one_cycle(1, 5e-2, moms=(0.8,0.7))"
   ]
  },
  {
   "cell_type": "code",
   "execution_count": null,
   "metadata": {},
   "outputs": [],
   "source": [
    "learn.save('first')"
   ]
  },
  {
   "cell_type": "code",
   "execution_count": null,
   "metadata": {},
   "outputs": [],
   "source": [
    "learn.load('first');"
   ]
  },
  {
   "cell_type": "code",
   "execution_count": null,
   "metadata": {},
   "outputs": [],
   "source": [
    "learn.freeze_to(-2)\n",
    "learn.fit_one_cycle(1, slice(1e-2/(2.6**4),1e-2), moms=(0.8,0.7))"
   ]
  },
  {
   "cell_type": "code",
   "execution_count": null,
   "metadata": {},
   "outputs": [],
   "source": [
    "learn.save('second')"
   ]
  },
  {
   "cell_type": "code",
   "execution_count": null,
   "metadata": {},
   "outputs": [],
   "source": [
    "learn.load('second');"
   ]
  },
  {
   "cell_type": "code",
   "execution_count": null,
   "metadata": {},
   "outputs": [],
   "source": [
    "learn.freeze_to(-3)\n",
    "learn.fit_one_cycle(1, slice(5e-3/(2.6**4),5e-3), moms=(0.8,0.7))"
   ]
  },
  {
   "cell_type": "code",
   "execution_count": null,
   "metadata": {},
   "outputs": [],
   "source": [
    "learn.save('third')"
   ]
  },
  {
   "cell_type": "code",
   "execution_count": null,
   "metadata": {},
   "outputs": [],
   "source": [
    "learn.load('third');"
   ]
  },
  {
   "cell_type": "code",
   "execution_count": null,
   "metadata": {},
   "outputs": [],
   "source": [
    "learn.unfreeze()\n",
    "learn.fit_one_cycle(2, slice(1e-3/(2.6**4),1e-3), moms=(0.8,0.7))"
   ]
  },
  {
   "cell_type": "code",
   "execution_count": null,
   "metadata": {},
   "outputs": [],
   "source": [
    "learn.save('final')"
   ]
  },
  {
   "cell_type": "markdown",
   "metadata": {},
   "source": [
    "### Test the final classifier"
   ]
  },
  {
   "cell_type": "code",
   "execution_count": null,
   "metadata": {},
   "outputs": [],
   "source": [
    "learn.load('final')"
   ]
  },
  {
   "cell_type": "code",
   "execution_count": null,
   "metadata": {},
   "outputs": [],
   "source": [
    "learn.show_results()"
   ]
  },
  {
   "cell_type": "markdown",
   "metadata": {},
   "source": [
    "Let's try with custom text, I got the following examples from web articles:\n",
    "\n",
    "Computer Graphics"
   ]
  },
  {
   "cell_type": "code",
   "execution_count": null,
   "metadata": {},
   "outputs": [],
   "source": [
    "text = \"GeForce RTX graphics cards are the fastest in the world, giving PC gamers the very best framerates and experiences in each and every game. Now, RTX is coming to laptops, starting with over 40 new GeForce RTX laptops, in 100-plus configurations, from partners around the world. And like desktop GeForce RTX graphics cards, RTX laptops have the hardware required for real-time ray tracing and AI-enhanced graphics, enabling you to experience immersive, lifelike visual effects anywhere, anytime.\"\n",
    "learn.predict(text)"
   ]
  },
  {
   "cell_type": "markdown",
   "metadata": {},
   "source": [
    "Baseball"
   ]
  },
  {
   "cell_type": "code",
   "execution_count": null,
   "metadata": {},
   "outputs": [],
   "source": [
    "text = \"The Brewers had no such qualms. They recognized that Grandal perennially ranked among the best catchers in baseball at framing pitches for strikes. They also saw a hitter who made up for often low batting averages with a strong batting eye and solid power numbers. In fact, while J.T. Realmuto was the clear leader among catchers last season, Grandal checked in at No. 2 by Wins Above Replacement.\"\n",
    "learn.predict(text)"
   ]
  },
  {
   "cell_type": "markdown",
   "metadata": {},
   "source": [
    "NHL (Hockey)"
   ]
  },
  {
   "cell_type": "code",
   "execution_count": null,
   "metadata": {},
   "outputs": [],
   "source": [
    "text = \"Mark Giordano had two goals and an assist in his 800th career game and the Calgary Flames defeated the Arizona Coyotes 7-1 Sunday night. Giordano, the Flames' captain, has 47 points (nine goals, 38 assists) in 45 games this season, second among NHL defensemen and five points behind San Jose's Brent Burns. Matthew Tkachuk scored two goals, and Sean Monahan, Johnny Gaudreau and Sam Bennett also scored for Calgary, which has won five straight and improved to 8-1-1 in its last 10. The Flames lead the Pacific Division by three points over the Sharks. Gaudreau also had an assist, extending his point streak to eight games (eight goals, 10 assists). With 69 points, he ranks second in the league in scoring, six points back of Tampa Bay's Nikita Kucherov.\"\n",
    "learn.predict(text)"
   ]
  },
  {
   "cell_type": "code",
   "execution_count": null,
   "metadata": {},
   "outputs": [],
   "source": [
    "text = \"Mike Smith got the start in the nets for Calgary in place of red-hot David Rittich. He made 22 saves and improved to 13-9-1. Adin Hill had 19 saves for the Coyotes and fell to 7-5. Calgary surged in front on two goals 68 seconds apart late in the first period. At 16:51, Giordano got the puck in the corner and fired a shot into the top corner from a sharp angle.\"\n",
    "learn.predict(text)"
   ]
  },
  {
   "cell_type": "markdown",
   "metadata": {},
   "source": [
    "Cars"
   ]
  },
  {
   "cell_type": "code",
   "execution_count": null,
   "metadata": {},
   "outputs": [],
   "source": [
    "text = \"Our first impression is that it feels like a fairly mature car; Toyota is billing this car as a premium GT set up for occasional track use. The automaker notes that this is the first global model developed by Toyota Gazoo Racing, which put its stamp on the car throughout the entire development process (and also put a small GR badge on the rear of the car, just below its lightweight composite liftback).\"\n",
    "learn.predict(text)"
   ]
  },
  {
   "cell_type": "markdown",
   "metadata": {},
   "source": [
    "### Prepare for production"
   ]
  },
  {
   "cell_type": "markdown",
   "metadata": {},
   "source": [
    "Export for visualization in Netron"
   ]
  },
  {
   "cell_type": "code",
   "execution_count": null,
   "metadata": {},
   "outputs": [],
   "source": [
    "torch.save(learn.model[0], DATA_PATH/'models'/'model_lm_netron.pth')\n",
    "torch.save(learn.model[1], DATA_PATH/'models'/'model_classifier_netron.pth')"
   ]
  },
  {
   "cell_type": "markdown",
   "metadata": {},
   "source": [
    "Export for use in a Docker Image. We serialize the final model and its metadata, in order to be easily loaded and used in a containerized production environment. The following parameters should match the one used to train the model.\n",
    "\n",
    "*In this specific example* most of them are fastai default values, so I got them from fastai library source code."
   ]
  },
  {
   "cell_type": "code",
   "execution_count": null,
   "metadata": {},
   "outputs": [],
   "source": [
    "drop_mult=0.5\n",
    "dps = default_dropout['classifier'] * drop_mult\n",
    "bptt=70\n",
    "emb_sz=400\n",
    "nh=1150\n",
    "nl=3\n",
    "pad_token=1\n",
    "qrnn=False\n",
    "max_len=70*20\n",
    "lin_ftrs = [50]\n",
    "ps = [0.1]\n",
    "vocab_size = len(data_clas.vocab.itos)\n",
    "n_class = len(data_clas.classes)\n",
    "layers = [emb_sz*3] + lin_ftrs + [n_class]\n",
    "ps = [dps[4]] + ps"
   ]
  },
  {
   "cell_type": "code",
   "execution_count": null,
   "metadata": {},
   "outputs": [],
   "source": [
    "torch.save(\n",
    "    { \"model\": learn.model.state_dict(), \n",
    "      \"model_params\": {\n",
    "          \"drop_mult\": drop_mult,\n",
    "          \"dps\": dps,\n",
    "          \"bptt\": bptt,\n",
    "          \"emb_sz\": emb_sz,\n",
    "          \"nh\": nh,\n",
    "          \"nl\": nl,\n",
    "          \"pad_token\": pad_token,\n",
    "          \"qrnn\": qrnn,\n",
    "          \"max_len\": max_len,\n",
    "          \"lin_ftrs\": lin_ftrs,\n",
    "          \"ps\": ps,\n",
    "          \"vocab_size\": vocab_size,\n",
    "          \"n_class\": n_class,\n",
    "          \"layers\": layers,\n",
    "          \"ps\": ps},\n",
    "      \"vocab\": data_clas.vocab.itos,\n",
    "      \"classes\": data_clas.classes\n",
    "    }, DATA_PATH/'models'/'final_for_prod.pth')"
   ]
  },
  {
   "cell_type": "markdown",
   "metadata": {},
   "source": [
    "### Scoring script"
   ]
  },
  {
   "cell_type": "markdown",
   "metadata": {},
   "source": [
    "We need to prepare a script for model evaluation to run in a Docker image. The scoring script, called `score.py`, will used by a web service call to make predictions using the trained model. We first prepare a script to work from the command line, later we'll apply few changes to make it working in Azure Machine Learning Services. \n",
    "\n",
    "We must include two required functions into the scoring script:\n",
    "\n",
    "- The `init()` function, which typically loads the model and its metadata into a global object. This function is run only once when the Docker container is started.\n",
    "- The `run(input_data)` function uses the model to predict a value based on the input data. Inputs and outputs to the run typically use JSON for serialization and de-serialization, but other formats can be supported.\n",
    "\n",
    "The following script is derived from Fast.AI text learner internal implementation. When we are in production, we do not usually need to have the whole Fast.AI helpers, DataBunch, Learners, and so on. So, we have to extract the key components provided by Fast.AI and use them to replicate the same processing pipeline performed implicitly by the learner."
   ]
  },
  {
   "cell_type": "code",
   "execution_count": null,
   "metadata": {},
   "outputs": [],
   "source": [
    "PRODUCTION_PATH = Path('./production')\n",
    "PRODUCTION_PATH.mkdir(exist_ok=True)"
   ]
  },
  {
   "cell_type": "code",
   "execution_count": null,
   "metadata": {},
   "outputs": [],
   "source": [
    "%%writefile ./production/score_cmd.py\n",
    "from fastai.text import *\n",
    "from html.parser import HTMLParser\n",
    "\n",
    "class HTMLTextExtractor(html.parser.HTMLParser):\n",
    "    def __init__(self):\n",
    "        super(HTMLTextExtractor, self).__init__()\n",
    "        self.result = [ ]\n",
    "\n",
    "    def handle_data(self, d):\n",
    "        self.result.append(d)\n",
    "\n",
    "    def get_text(self):\n",
    "        return ''.join(self.result)\n",
    "    \n",
    "    def error(self, message):\n",
    "        return\n",
    "\n",
    "def html_to_text(html):\n",
    "    s = HTMLTextExtractor()    \n",
    "    try:\n",
    "        s.feed(html)\n",
    "        return s.get_text()\n",
    "    except:\n",
    "        return html\n",
    "\n",
    "def custom_tagstrip(x:str) -> str:\n",
    "    \"Remove all html tags in `x`.\"\n",
    "    return html_to_text(x)\n",
    "\n",
    "def load_model(classifier_filename):\n",
    "    \"\"\"Load the classifier and related metadata\"\"\"\n",
    "    \n",
    "    device = torch.device('cuda') if torch.cuda.is_available() else torch.device('cpu')\n",
    "    \n",
    "    state = torch.load(Path(classifier_filename).open('rb'), map_location=device)\n",
    "    \n",
    "    if set(state.keys()) == {'model', 'model_params', 'vocab', 'classes'}:\n",
    "        model_state = state['model']\n",
    "        model_params = state['model_params']\n",
    "        itos = state['vocab']\n",
    "        classes = state['classes']\n",
    "    else:\n",
    "        raise RuntimeError(\"Invalid model provided.\")\n",
    "            \n",
    "    # Turn it into a string to int mapping (which is what we need)\n",
    "    stoi = collections.defaultdict(lambda:0, {str(v):int(k) for k,v in enumerate(itos)})\n",
    "    \n",
    "    # Get model reference from parameters (even if they are not used at runtime)\n",
    "    model = get_rnn_classifier(model_params['bptt'],\n",
    "                               model_params['max_len'],\n",
    "                               model_params['n_class'],\n",
    "                               model_params['vocab_size'], \n",
    "                               model_params['emb_sz'],\n",
    "                               model_params['nh'],\n",
    "                               model_params['nl'],\n",
    "                               model_params['pad_token'],\n",
    "                               model_params['layers'],\n",
    "                               model_params['ps'],\n",
    "                               input_p=model_params['dps'][0],\n",
    "                               weight_p=model_params['dps'][1],\n",
    "                               embed_p=model_params['dps'][2],\n",
    "                               hidden_p=model_params['dps'][3],\n",
    "                               qrnn=model_params['qrnn'])\n",
    "\n",
    "    # Load the trained classifier\n",
    "    model.load_state_dict(model_state)\n",
    "    \n",
    "    # Put the classifier into evaluation mode\n",
    "    model.reset()\n",
    "    model.eval()\n",
    "\n",
    "    return stoi, classes, model\n",
    "\n",
    "def predict_text(stoi, model, lang, text):\n",
    "    \"\"\"Do the actual prediction on the text using the model and mapping files passed\"\"\"\n",
    "\n",
    "    # Predictions are done on arrays of input.\n",
    "    # We only have a single input, so turn it into a 1x1 array\n",
    "    texts = [text]\n",
    "\n",
    "    # Tokenize using the FastAI wrapper around spaCy\n",
    "    pre_rules = [custom_tagstrip] + defaults.text_pre_rules\n",
    "    tokens = Tokenizer(lang=lang, pre_rules=pre_rules, n_cpus=1).process_all(texts)\n",
    "\n",
    "    # Turn into integers for each word\n",
    "    encoded = np.array([[stoi[o] for o in p] for p in tokens], dtype=np.int64)\n",
    "    \n",
    "    # Turn this array into a tensor\n",
    "    data = torch.from_numpy(encoded)\n",
    "\n",
    "    # Do the predictions\n",
    "    predictions = model(data)\n",
    "    \n",
    "    # Get class probability from classifier predictions\n",
    "    res = F.softmax(predictions[0], -1).detach().cpu().numpy()\n",
    "    \n",
    "    return res[0]\n",
    "\n",
    "def init():\n",
    "    global stoi\n",
    "    global classes\n",
    "    global model\n",
    "    \n",
    "    # Retrieve the path to the model file using the model name\n",
    "    model_path = \"../../datasets/20news/models/final_for_prod.pth\"\n",
    "    stoi, classes, model = load_model(model_path)\n",
    "\n",
    "def run(raw_data):\n",
    "    deser_obj = raw_data\n",
    "    lang = deser_obj['lang']\n",
    "    text = deser_obj['text']\n",
    "    \n",
    "    # Make prediction  \n",
    "    scores = predict_text(stoi, model, lang, text)\n",
    "    pred_class = np.argmax(scores)\n",
    "    \n",
    "    print(f\"Class: {classes[pred_class]} ({scores[pred_class]})\")\n",
    "    \n",
    "    # You can return any data type as long as it is JSON-serializable\n",
    "    return { \"label\": classes[pred_class], \"label_index\": pred_class, \"label_score\": scores[pred_class], \"all_scores\": scores }\n",
    "\n",
    "if __name__ == '__main__':\n",
    "    init()\n",
    "    run({\"lang\": sys.argv[1], \"text\": sys.argv[2]})"
   ]
  },
  {
   "cell_type": "code",
   "execution_count": null,
   "metadata": {},
   "outputs": [],
   "source": []
  }
 ],
 "metadata": {
  "kernelspec": {
   "display_name": "Python 3",
   "language": "python",
   "name": "python3"
  },
  "language_info": {
   "codemirror_mode": {
    "name": "ipython",
    "version": 3
   },
   "file_extension": ".py",
   "mimetype": "text/x-python",
   "name": "python",
   "nbconvert_exporter": "python",
   "pygments_lexer": "ipython3",
   "version": "3.6.6"
  }
 },
 "nbformat": 4,
 "nbformat_minor": 2
}
