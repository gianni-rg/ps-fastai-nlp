{
 "cells": [
  {
   "cell_type": "markdown",
   "metadata": {},
   "source": [
    "#  Building a Text/Topic Classifier with Transfer Learning"
   ]
  },
  {
   "cell_type": "code",
   "execution_count": 1,
   "metadata": {},
   "outputs": [],
   "source": [
    "%reload_ext autoreload\n",
    "%autoreload 2\n",
    "%matplotlib inline"
   ]
  },
  {
   "cell_type": "code",
   "execution_count": 2,
   "metadata": {},
   "outputs": [],
   "source": [
    "from fastai.text import *"
   ]
  },
  {
   "cell_type": "code",
   "execution_count": 3,
   "metadata": {},
   "outputs": [],
   "source": [
    "#torch.cuda.empty_cache() "
   ]
  },
  {
   "cell_type": "markdown",
   "metadata": {},
   "source": [
    "## Preparing the Data"
   ]
  },
  {
   "cell_type": "markdown",
   "metadata": {},
   "source": [
    "Download the dataset from here: http://qwone.com/~jason/20Newsgroups/\n",
    "\n",
    "The data is organized into 20 different newsgroups, each corresponding to a different topic. Some of the newsgroups are very closely related to each other (ie. `comp.sys.ibm.pc.hardware` / `comp.sys.mac.hardware`), while others are highly unrelated (ie. `misc.forsale` / `soc.religion.christian`). Here is a list of the 20 newsgroups, partitioned (more or less) according to subject matter:\n",
    "\n",
    "\tcomp.graphics\n",
    "\tcomp.os.ms-windows.misc\n",
    "\tcomp.sys.ibm.pc.hardware\n",
    "\tcomp.sys.mac.hardware\n",
    "\tcomp.windows.x\n",
    "\trec.autos\n",
    "\trec.motorcycles\n",
    "\trec.sport.baseball\n",
    "\trec.sport.hockey\n",
    "\tsci.crypt\n",
    "\tsci.electronics\n",
    "\tsci.med\n",
    "\tsci.space\n",
    "\tmisc.forsale\n",
    "\ttalk.politics.misc\n",
    "\ttalk.politics.guns\n",
    "\ttalk.politics.mideast\n",
    "\ttalk.religion.misc\n",
    "\talt.atheism\n",
    "    soc.religion.christian\n",
    "    \n",
    "We use the \"bydate\" version, sorted by date into training (60%) and test (40%) sets. It's more realistic because the train and test sets are separated in time. It also has been cleaned, it does not include cross-posts and duplicates, and does not include newsgroup-identifying headers (Xref, Newsgroups, Path, Followup-To, Date). In total there are **18846 documents**."
   ]
  },
  {
   "cell_type": "code",
   "execution_count": 3,
   "metadata": {},
   "outputs": [],
   "source": [
    "DATA_PATH = Path('../datasets/20news')\n",
    "DATA_PATH.mkdir(exist_ok=True)"
   ]
  },
  {
   "cell_type": "markdown",
   "metadata": {},
   "source": [
    "### Data Pre-Processing"
   ]
  },
  {
   "cell_type": "markdown",
   "metadata": {},
   "source": [
    "*These steps must be performed only once -- specific to the dataset we're using*.\n",
    "\n",
    "We need to pre-process the dataset first:\n",
    "1. Rename all files without extension to `.txt`, so they can be \"seen\" by fastai library helpers."
   ]
  },
  {
   "cell_type": "code",
   "execution_count": null,
   "metadata": {},
   "outputs": [],
   "source": [
    "import codecs"
   ]
  },
  {
   "cell_type": "code",
   "execution_count": null,
   "metadata": {},
   "outputs": [],
   "source": [
    "for path, subdirs, files in os.walk(DATA_PATH):\n",
    "    for name in files:\n",
    "        fullpath = pathlib.PurePath(path, name)\n",
    "        os.rename(fullpath, str(fullpath) + '.txt')"
   ]
  },
  {
   "cell_type": "markdown",
   "metadata": {},
   "source": [
    "2. Convert ANSI files to UTF-8 encoding, to avoid errors while loading them."
   ]
  },
  {
   "cell_type": "code",
   "execution_count": null,
   "metadata": {},
   "outputs": [],
   "source": [
    "for path, subdirs, files in os.walk(DATA_PATH):\n",
    "    for name in files:\n",
    "        fullpath = pathlib.PurePath(path, name)\n",
    "        try:\n",
    "            #read input file\n",
    "            with codecs.open(fullpath, 'r', encoding = 'utf8') as file:\n",
    "                lines = file.read()\n",
    "        except:\n",
    "            with codecs.open(fullpath, 'r', encoding = 'ansi') as file:\n",
    "                lines = file.read()\n",
    "            #write output file\n",
    "            with codecs.open(fullpath, 'w', encoding = 'utf8') as file:\n",
    "                file.write(lines)  "
   ]
  },
  {
   "cell_type": "markdown",
   "metadata": {},
   "source": [
    "We can now load our data:"
   ]
  },
  {
   "cell_type": "code",
   "execution_count": null,
   "metadata": {},
   "outputs": [],
   "source": [
    "data = TextClasDataBunch.load(DATA_PATH)"
   ]
  },
  {
   "cell_type": "code",
   "execution_count": null,
   "metadata": {},
   "outputs": [],
   "source": [
    "data.show_batch()"
   ]
  },
  {
   "cell_type": "markdown",
   "metadata": {},
   "source": [
    "Being the line before a bit long, in the future we want to load quickly the final transformed results. So, we can save the work so far by using the following cell:"
   ]
  },
  {
   "cell_type": "code",
   "execution_count": null,
   "metadata": {},
   "outputs": [],
   "source": [
    "data.save('tmp')"
   ]
  },
  {
   "cell_type": "markdown",
   "metadata": {},
   "source": [
    "and loading back with this one:"
   ]
  },
  {
   "cell_type": "code",
   "execution_count": null,
   "metadata": {},
   "outputs": [],
   "source": [
    "data = TextClasDataBunch.load(DATA_PATH, 'tmp', bs=bs)"
   ]
  },
  {
   "cell_type": "code",
   "execution_count": null,
   "metadata": {},
   "outputs": [],
   "source": [
    "doc(TextClasDataBunch)"
   ]
  },
  {
   "cell_type": "markdown",
   "metadata": {},
   "source": [
    "## Language Model Fine-Tuning"
   ]
  },
  {
   "cell_type": "markdown",
   "metadata": {},
   "source": [
    "We are **not** going to train a model that classifies the documents from scratch.\n",
    "\n",
    "We'll use a model **pretrained** on a bigger dataset (a cleaned subset of Wikipedia called [wikitext-103](https://einstein.ai/research/blog/the-wikitext-long-term-dependency-language-modeling-dataset)). That model has been trained to guess the next word, its input being the previous ones. It has a recurrent structure and a hidden state that is updated each time it sees a new word. This hidden state thus contains information about the sentence up to that point.\n",
    "\n",
    "We are going to use that 'knowledge' of the English language to build our classifier, but first, we need to **fine tune** the pretrained model to our particular dataset. Because the English of the documents in the newsgroup isn't the same as the English of Wikipedia, we'll need to adjust the parameters of our model. In addition, there might be some words extremely common in that dataset that were barely present in Wikipedia, and therefore might no be part of the vocabulary the model was trained on."
   ]
  },
  {
   "cell_type": "code",
   "execution_count": 4,
   "metadata": {},
   "outputs": [],
   "source": [
    "bs = 32"
   ]
  },
  {
   "cell_type": "markdown",
   "metadata": {},
   "source": [
    "Let's create our data object with the Data Block API:"
   ]
  },
  {
   "cell_type": "code",
   "execution_count": 5,
   "metadata": {
    "scrolled": true
   },
   "outputs": [],
   "source": [
    "data_lm = (TextList.from_folder(DATA_PATH)\n",
    "            .filter_by_folder(include=['20news-bydate-train', '20news-bydate-test']) \n",
    "            .random_split_by_pct(0.1) \n",
    "            .label_for_lm()\n",
    "            .databunch(bs=bs))\n",
    "data_lm.save('tmp_lm')"
   ]
  },
  {
   "cell_type": "markdown",
   "metadata": {},
   "source": [
    "From now on, if we want to load quickly the final results, we can use the following cell:"
   ]
  },
  {
   "cell_type": "code",
   "execution_count": null,
   "metadata": {},
   "outputs": [],
   "source": [
    "data_lm = TextLMDataBunch.load(DATA_PATH, 'tmp_lm', bs=bs)"
   ]
  },
  {
   "cell_type": "markdown",
   "metadata": {},
   "source": [
    "We use a special kind of `TextDataBunch` for the language model, that **ignores the labels**, shuffles the texts at each epoch before concatenating them all together, and sends batches that **read that text in order with inferred targets that are the next word in the sentence**."
   ]
  },
  {
   "cell_type": "code",
   "execution_count": null,
   "metadata": {},
   "outputs": [],
   "source": [
    "doc(TextLMDataBunch)"
   ]
  },
  {
   "cell_type": "code",
   "execution_count": null,
   "metadata": {},
   "outputs": [],
   "source": [
    "data_lm.show_batch()"
   ]
  },
  {
   "cell_type": "code",
   "execution_count": null,
   "metadata": {},
   "outputs": [],
   "source": [
    "doc(Learner)"
   ]
  },
  {
   "cell_type": "markdown",
   "metadata": {},
   "source": [
    "We can then put this in a Learner object very easily, with a model loaded with pretrained weights."
   ]
  },
  {
   "cell_type": "code",
   "execution_count": 6,
   "metadata": {},
   "outputs": [],
   "source": [
    "learn = language_model_learner(data_lm, pretrained_model=URLs.WT103_1, drop_mult=0.3)"
   ]
  },
  {
   "cell_type": "markdown",
   "metadata": {},
   "source": [
    " Pre-trained models will be downloaded the first time you'll execute the previous line, and stored by default in `~/.fastai/models/` (or elsewhere if you changed the config file)."
   ]
  },
  {
   "cell_type": "code",
   "execution_count": 7,
   "metadata": {},
   "outputs": [
    {
     "name": "stdout",
     "output_type": "stream",
     "text": [
      "LR Finder is complete, type {learner_name}.recorder.plot() to see the graph.\n"
     ]
    }
   ],
   "source": [
    "learn.lr_find()"
   ]
  },
  {
   "cell_type": "code",
   "execution_count": 8,
   "metadata": {},
   "outputs": [
    {
     "data": {
      "image/png": "[encoded data removed]",
      "text/plain": [
       "<Figure size 432x288 with 1 Axes>"
      ]
     },
     "metadata": {
      "needs_background": "light"
     },
     "output_type": "display_data"
    }
   ],
   "source": [
    "learn.recorder.plot(skip_end=8)"
   ]
  },
  {
   "cell_type": "code",
   "execution_count": 9,
   "metadata": {},
   "outputs": [
    {
     "data": {
      "text/html": [
       "Total time: 11:00 <p><table style='width:300px; margin-bottom:10px'>\n",
       "  <tr>\n",
       "    <th>epoch</th>\n",
       "    <th>train_loss</th>\n",
       "    <th>valid_loss</th>\n",
       "    <th>accuracy</th>\n",
       "  </tr>\n",
       "  <tr>\n",
       "    <th>1</th>\n",
       "    <th>3.974687</th>\n",
       "    <th>3.748984</th>\n",
       "    <th>0.344966</th>\n",
       "  </tr>\n",
       "</table>\n"
      ],
      "text/plain": [
       "<IPython.core.display.HTML object>"
      ]
     },
     "metadata": {},
     "output_type": "display_data"
    }
   ],
   "source": [
    "learn.fit_one_cycle(1, 1e-2, moms=(0.8,0.7))"
   ]
  },
  {
   "cell_type": "code",
   "execution_count": 10,
   "metadata": {},
   "outputs": [],
   "source": [
    "learn.save('fit_head')"
   ]
  },
  {
   "cell_type": "code",
   "execution_count": null,
   "metadata": {},
   "outputs": [],
   "source": [
    "learn.load('fit_head');"
   ]
  },
  {
   "cell_type": "markdown",
   "metadata": {},
   "source": [
    "To complete the fine-tuning, we can then unfeeze and launch a new training."
   ]
  },
  {
   "cell_type": "code",
   "execution_count": 11,
   "metadata": {},
   "outputs": [],
   "source": [
    "learn.unfreeze()"
   ]
  },
  {
   "cell_type": "code",
   "execution_count": 12,
   "metadata": {},
   "outputs": [
    {
     "data": {
      "text/html": [
       "Total time: 3:11:43 <p><table style='width:300px; margin-bottom:10px'>\n",
       "  <tr>\n",
       "    <th>epoch</th>\n",
       "    <th>train_loss</th>\n",
       "    <th>valid_loss</th>\n",
       "    <th>accuracy</th>\n",
       "  </tr>\n",
       "  <tr>\n",
       "    <th>1</th>\n",
       "    <th>3.576311</th>\n",
       "    <th>3.525707</th>\n",
       "    <th>0.373544</th>\n",
       "  </tr>\n",
       "  <tr>\n",
       "    <th>2</th>\n",
       "    <th>3.225300</th>\n",
       "    <th>3.383976</th>\n",
       "    <th>0.397529</th>\n",
       "  </tr>\n",
       "  <tr>\n",
       "    <th>3</th>\n",
       "    <th>3.176068</th>\n",
       "    <th>3.281241</th>\n",
       "    <th>0.416279</th>\n",
       "  </tr>\n",
       "  <tr>\n",
       "    <th>4</th>\n",
       "    <th>3.035239</th>\n",
       "    <th>3.200302</th>\n",
       "    <th>0.430831</th>\n",
       "  </tr>\n",
       "  <tr>\n",
       "    <th>5</th>\n",
       "    <th>2.908198</th>\n",
       "    <th>3.132305</th>\n",
       "    <th>0.442265</th>\n",
       "  </tr>\n",
       "  <tr>\n",
       "    <th>6</th>\n",
       "    <th>2.926290</th>\n",
       "    <th>3.071579</th>\n",
       "    <th>0.452932</th>\n",
       "  </tr>\n",
       "  <tr>\n",
       "    <th>7</th>\n",
       "    <th>2.680589</th>\n",
       "    <th>3.020365</th>\n",
       "    <th>0.461733</th>\n",
       "  </tr>\n",
       "  <tr>\n",
       "    <th>8</th>\n",
       "    <th>2.666873</th>\n",
       "    <th>2.981960</th>\n",
       "    <th>0.467910</th>\n",
       "  </tr>\n",
       "  <tr>\n",
       "    <th>9</th>\n",
       "    <th>2.619888</th>\n",
       "    <th>2.950953</th>\n",
       "    <th>0.474830</th>\n",
       "  </tr>\n",
       "  <tr>\n",
       "    <th>10</th>\n",
       "    <th>2.487435</th>\n",
       "    <th>2.925591</th>\n",
       "    <th>0.480116</th>\n",
       "  </tr>\n",
       "  <tr>\n",
       "    <th>11</th>\n",
       "    <th>2.310315</th>\n",
       "    <th>2.903644</th>\n",
       "    <th>0.484889</th>\n",
       "  </tr>\n",
       "  <tr>\n",
       "    <th>12</th>\n",
       "    <th>2.442508</th>\n",
       "    <th>2.888701</th>\n",
       "    <th>0.488332</th>\n",
       "  </tr>\n",
       "  <tr>\n",
       "    <th>13</th>\n",
       "    <th>2.341961</th>\n",
       "    <th>2.882446</th>\n",
       "    <th>0.490146</th>\n",
       "  </tr>\n",
       "  <tr>\n",
       "    <th>14</th>\n",
       "    <th>2.305168</th>\n",
       "    <th>2.878570</th>\n",
       "    <th>0.491368</th>\n",
       "  </tr>\n",
       "  <tr>\n",
       "    <th>15</th>\n",
       "    <th>2.364238</th>\n",
       "    <th>2.878908</th>\n",
       "    <th>0.491374</th>\n",
       "  </tr>\n",
       "</table>\n"
      ],
      "text/plain": [
       "<IPython.core.display.HTML object>"
      ]
     },
     "metadata": {},
     "output_type": "display_data"
    }
   ],
   "source": [
    "learn.fit_one_cycle(15, 1e-3, moms=(0.8,0.7))"
   ]
  },
  {
   "cell_type": "code",
   "execution_count": 13,
   "metadata": {},
   "outputs": [],
   "source": [
    "learn.save('fine_tuned')"
   ]
  },
  {
   "cell_type": "markdown",
   "metadata": {},
   "source": [
    "How good is our model? Well let's try to see what it predicts after a few given words."
   ]
  },
  {
   "cell_type": "code",
   "execution_count": null,
   "metadata": {},
   "outputs": [],
   "source": [
    "learn.load('fine_tuned');"
   ]
  },
  {
   "cell_type": "code",
   "execution_count": 16,
   "metadata": {},
   "outputs": [],
   "source": [
    "TEXT = \"Subject:\"\n",
    "N_WORDS = 100\n",
    "N_SENTENCES = 3"
   ]
  },
  {
   "cell_type": "code",
   "execution_count": 17,
   "metadata": {},
   "outputs": [
    {
     "name": "stdout",
     "output_type": "stream",
     "text": [
      "Subject: xxmaj re : xxmaj how hot should the cpu be ? \n",
      "\n",
      " xxmaj some interesting stuff : xxmaj what xxup will be the best xxup cpu in the world ? \n",
      "\n",
      "\n",
      " * xxmaj what is the xxup cpu ? \n",
      "\n",
      "  xxmaj can the xxup cpu get a xxup cpu and a xxup cpu to run the cpu ? xxmaj will it work ? \n",
      "\n",
      "  xxmaj if there is enough memory , what 's the difference ? \n",
      "\n",
      " xxup cpu - xxmaj memory \n",
      "  xxmaj not xxmaj entirely : xxup cpu xxmaj fans \n",
      "  xxup cpu xxmaj fans \n",
      "  xxmaj heat\n",
      "\n",
      "Subject: xxmaj re : xxmaj how to the disks copy protected . \n",
      " xxup organization : xxmaj california xxmaj state xxmaj university , xxmaj chico \n",
      " xxmaj lines : 37 \n",
      " xxup nntp - xxmaj posting - xxmaj host : sandman.caltech.edu \n",
      "\n",
      " > > xxmaj in article < xxup \n",
      "  > > > xxmaj fred xxmaj rice < making a while : writes : \n",
      "  > > > xxmaj in article < xxup stand xxup up xxup against xxup bigotry , writes : \n",
      "  > > > xxmaj and i do n't xxup want to call the press conference a \"\n",
      "\n",
      "Subject: xxmaj re : xxmaj how to put xxup truth in xxup love \n",
      " xxmaj in article < xxup 93109.13404334aej7d@cmuvm.bitnet > xxup write < xxup 34aej7d@cmuvm.bitnet > writes : \n",
      " > i just posted this above , but i have never seen the topic here at \n",
      "  > univ > or on the net . xxmaj please reply via e - mail . \n",
      "\n",
      " xxmaj it has been a long time since i posted it . xxmaj well , i thought it was worth \n",
      "  making . \n",
      "\n",
      "  xxmaj you have just stated that you can not get your money back\n"
     ]
    }
   ],
   "source": [
    "print(\"\\n\\n\".join(learn.predict(TEXT, N_WORDS, temperature=0.8, min_p=0.002) for _ in range(N_SENTENCES)))"
   ]
  },
  {
   "cell_type": "markdown",
   "metadata": {},
   "source": [
    "We have to save the model but also it's encoder, the part that's responsible for creating and updating the hidden state. For the next part, we don't care about the part that tries to guess the next word."
   ]
  },
  {
   "cell_type": "code",
   "execution_count": 18,
   "metadata": {},
   "outputs": [],
   "source": [
    "learn.save_encoder('fine_tuned_enc')"
   ]
  },
  {
   "cell_type": "markdown",
   "metadata": {},
   "source": [
    "## Classifier"
   ]
  },
  {
   "cell_type": "markdown",
   "metadata": {},
   "source": [
    "Now, we'll create a **new** DataBunch that only grabs the labelled data and keeps those labels. We need to perform the pre-processing to build our newsgroup databunch in such a way that *the vocabulary used to fine-tune the language model is the same*.\n",
    "\n",
    "So, first, load the fine-tuned language model dataset:"
   ]
  },
  {
   "cell_type": "code",
   "execution_count": 19,
   "metadata": {},
   "outputs": [],
   "source": [
    "data_lm = TextLMDataBunch.load(DATA_PATH, bs=bs, cache_name='tmp_lm')"
   ]
  },
  {
   "cell_type": "markdown",
   "metadata": {},
   "source": [
    "and use its vocabulary to prepare the classification dataset:"
   ]
  },
  {
   "cell_type": "code",
   "execution_count": 20,
   "metadata": {},
   "outputs": [],
   "source": [
    "classes = ['alt.atheism', 'comp.graphics', 'comp.os.ms-windows.misc', 'comp.sys.ibm.pc.hardware',\n",
    "           'comp.sys.mac.hardware', 'comp.windows.x', 'misc.forsale', 'rec.autos', 'rec.motorcycles',\n",
    "           'rec.sport.baseball', 'rec.sport.hockey', 'sci.crypt', 'sci.electronics', 'sci.med', 'sci.space',\n",
    "           'soc.religion.christian', 'talk.politics.guns', 'talk.politics.mideast', 'talk.politics.misc',\n",
    "           'talk.religion.misc']"
   ]
  },
  {
   "cell_type": "code",
   "execution_count": 21,
   "metadata": {},
   "outputs": [],
   "source": [
    "data_clas = TextClasDataBunch.from_folder(DATA_PATH, train='20news-bydate-train', valid='20news-bydate-test', classes=classes, vocab=data_lm.vocab)"
   ]
  },
  {
   "cell_type": "markdown",
   "metadata": {},
   "source": [
    "By executing this line, a process was launched that took a bit of time. Let's dig a bit into it. Images could be fed (almost) directly into a model because they're just a big array of pixel values that are floats between 0 and 1. A text is composed of words, and we can't apply mathematical functions to them directly. We first have to convert them to numbers. This is done in two differents steps: tokenization and numericalization. A TextDataBunch does all of that behind the scenes for you.\n",
    "\n",
    "Before we delve into the explanations, let's take the time to save the things that were calculated."
   ]
  },
  {
   "cell_type": "code",
   "execution_count": 22,
   "metadata": {},
   "outputs": [],
   "source": [
    "data_clas.save('tmp_clas')"
   ]
  },
  {
   "cell_type": "markdown",
   "metadata": {},
   "source": [
    "Next time we launch this notebook, we can skip the cell above that took a bit of time and load the final results like this:"
   ]
  },
  {
   "cell_type": "code",
   "execution_count": 5,
   "metadata": {},
   "outputs": [],
   "source": [
    "data_clas = TextClasDataBunch.load(DATA_PATH, 'tmp_clas', bs=bs)"
   ]
  },
  {
   "cell_type": "code",
   "execution_count": 23,
   "metadata": {},
   "outputs": [
    {
     "data": {
      "text/html": [
       "<table>  <col width='90%'>  <col width='10%'>  <tr>\n",
       "    <th>text</th>\n",
       "    <th>target</th>\n",
       "  </tr>\n",
       "  <tr>\n",
       "    <th>xxbos xxmaj subject : roman.bmp 01 / 14in response to the requests for cool bitmaps i am posting one . \\n xxmaj from : pwiseman@salmon.usd.edu ( xxmaj cliff ) \\n xxmaj reply - xxmaj to : pwiseman@salmon.usd.edu ( xxmaj cliff ) \\n xxmaj distribution : usa \\n xxmaj organization : xxmaj university of xxmaj south xxmaj dakota \\n xxmaj lines : 978 \\n\\n\\n xxmaj due to the resolution and size</th>\n",
       "    <th>comp.os.ms-windows.misc</th>\n",
       "  </tr>\n",
       "  <tr>\n",
       "    <th>xxbos xxmaj from : xxunk ( xxmaj michael xxmaj phelps ) \\n xxmaj subject : xxmaj re : xxmaj need xxmaj senate xxmaj bill numbers and xxmaj house xxmaj resolution numbers \\n xxmaj originator : mjp@bwa.kgn.ibm.com \\n xxmaj reply - xxmaj to : mjp@vnet.ibm.com ( xxmaj michael xxup j. xxmaj phelps ) \\n xxmaj disclaimer : xxmaj this posting represents the poster 's views , not necessarily those of xxup</th>\n",
       "    <th>talk.politics.guns</th>\n",
       "  </tr>\n",
       "  <tr>\n",
       "    <th>xxbos xxmaj from : ld231782@longs.lance.colostate.edu ( xxup l. xxmaj detweiler ) \\n xxmaj subject : xxmaj privacy & xxmaj anonymity on the xxmaj internet xxup faq ( 2 of 3 ) \\n xxmaj supersedes : < net - privacy / xxunk > \\n xxmaj organization : xxup tmp xxmaj enterprises \\n xxmaj lines : xxunk \\n xxmaj expires : 21 xxmaj may 1993 xxunk xxup gmt \\n xxmaj reply -</th>\n",
       "    <th>sci.crypt</th>\n",
       "  </tr>\n",
       "  <tr>\n",
       "    <th>xxbos xxmaj from : bgrubb@dante.nmsu.edu ( xxup grubb ) \\n xxmaj subject : xxmaj mac & xxup ibm xxmaj info - xxmaj version xxunk \\n xxmaj organization : xxmaj new xxmaj mexico xxmaj state xxmaj university , xxmaj las xxmaj cruces , xxup nm \\n xxmaj lines : 753 \\n xxmaj distribution : world \\n xxup nntp - xxmaj posting - xxmaj host : dante.nmsu.edu \\n\\n { xxmaj send follow</th>\n",
       "    <th>comp.sys.mac.hardware</th>\n",
       "  </tr>\n",
       "  <tr>\n",
       "    <th>xxbos xxmaj subject : roman.bmp 04 / 14 \\n xxmaj from : pwiseman@salmon.usd.edu ( xxmaj cliff ) \\n xxmaj reply - xxmaj to : pwiseman@salmon.usd.edu ( xxmaj cliff ) \\n xxmaj distribution : usa \\n xxmaj organization : xxmaj university of xxmaj south xxmaj dakota \\n xxmaj lines : 958 \\n\\n\\n  xxrep 12 - xxmaj part 4 of 14 xxrep 12 - \\n xxup xxunk < xxup xxunk <</th>\n",
       "    <th>comp.os.ms-windows.misc</th>\n",
       "  </tr>\n",
       "</table>\n"
      ],
      "text/plain": [
       "<IPython.core.display.HTML object>"
      ]
     },
     "metadata": {},
     "output_type": "display_data"
    }
   ],
   "source": [
    "data_clas.show_batch()"
   ]
  },
  {
   "cell_type": "markdown",
   "metadata": {},
   "source": [
    "Let's verify that language model vocabulary is the same as the classification vocabulary:"
   ]
  },
  {
   "cell_type": "code",
   "execution_count": 24,
   "metadata": {},
   "outputs": [
    {
     "data": {
      "text/plain": [
       "57331"
      ]
     },
     "execution_count": 24,
     "metadata": {},
     "output_type": "execute_result"
    }
   ],
   "source": [
    "len(data_lm.vocab.itos)"
   ]
  },
  {
   "cell_type": "code",
   "execution_count": 25,
   "metadata": {},
   "outputs": [
    {
     "data": {
      "text/plain": [
       "57331"
      ]
     },
     "execution_count": 25,
     "metadata": {},
     "output_type": "execute_result"
    }
   ],
   "source": [
    "len(data_clas.vocab.itos)"
   ]
  },
  {
   "cell_type": "code",
   "execution_count": 26,
   "metadata": {},
   "outputs": [
    {
     "data": {
      "text/plain": [
       "['xxunk',\n",
       " 'xxpad',\n",
       " 'xxbos',\n",
       " 'xxfld',\n",
       " 'xxmaj',\n",
       " 'xxup',\n",
       " 'xxrep',\n",
       " 'xxwrep',\n",
       " '\\n',\n",
       " ',',\n",
       " '.',\n",
       " 'the',\n",
       " '>',\n",
       " ':',\n",
       " 'to',\n",
       " 'of',\n",
       " '-',\n",
       " 'a',\n",
       " 'and',\n",
       " ')',\n",
       " '\\n\\n',\n",
       " '(',\n",
       " 'i',\n",
       " 'in',\n",
       " 'is',\n",
       " 'that',\n",
       " '\\n ',\n",
       " '\"',\n",
       " 'it',\n",
       " '/']"
      ]
     },
     "execution_count": 26,
     "metadata": {},
     "output_type": "execute_result"
    }
   ],
   "source": [
    "data_lm.vocab.itos[:30]"
   ]
  },
  {
   "cell_type": "code",
   "execution_count": 27,
   "metadata": {},
   "outputs": [
    {
     "data": {
      "text/plain": [
       "['xxunk',\n",
       " 'xxpad',\n",
       " 'xxbos',\n",
       " 'xxfld',\n",
       " 'xxmaj',\n",
       " 'xxup',\n",
       " 'xxrep',\n",
       " 'xxwrep',\n",
       " '\\n',\n",
       " ',',\n",
       " '.',\n",
       " 'the',\n",
       " '>',\n",
       " ':',\n",
       " 'to',\n",
       " 'of',\n",
       " '-',\n",
       " 'a',\n",
       " 'and',\n",
       " ')',\n",
       " '\\n\\n',\n",
       " '(',\n",
       " 'i',\n",
       " 'in',\n",
       " 'is',\n",
       " 'that',\n",
       " '\\n ',\n",
       " '\"',\n",
       " 'it',\n",
       " '/']"
      ]
     },
     "execution_count": 27,
     "metadata": {},
     "output_type": "execute_result"
    }
   ],
   "source": [
    "data_clas.vocab.itos[:30]"
   ]
  },
  {
   "cell_type": "markdown",
   "metadata": {},
   "source": [
    "We can then create a model to classify those documents and load the encoder we saved before."
   ]
  },
  {
   "cell_type": "code",
   "execution_count": 18,
   "metadata": {},
   "outputs": [],
   "source": [
    "doc(text_classifier_learner)"
   ]
  },
  {
   "cell_type": "code",
   "execution_count": 6,
   "metadata": {},
   "outputs": [],
   "source": [
    "drop_mult = 0.5"
   ]
  },
  {
   "cell_type": "code",
   "execution_count": 7,
   "metadata": {},
   "outputs": [],
   "source": [
    "learn = text_classifier_learner(data_clas, drop_mult=drop_mult)\n",
    "learn.load_encoder('fine_tuned_enc')\n",
    "learn.freeze()"
   ]
  },
  {
   "cell_type": "code",
   "execution_count": null,
   "metadata": {},
   "outputs": [],
   "source": [
    "doc(fit_one_cycle)"
   ]
  },
  {
   "cell_type": "code",
   "execution_count": null,
   "metadata": {},
   "outputs": [],
   "source": [
    "gc.collect();"
   ]
  },
  {
   "cell_type": "code",
   "execution_count": 30,
   "metadata": {},
   "outputs": [
    {
     "name": "stdout",
     "output_type": "stream",
     "text": [
      "LR Finder is complete, type {learner_name}.recorder.plot() to see the graph.\n"
     ]
    }
   ],
   "source": [
    "learn.lr_find()"
   ]
  },
  {
   "cell_type": "code",
   "execution_count": 31,
   "metadata": {},
   "outputs": [
    {
     "data": {
      "image/png": "[encoded data removed]",
      "text/plain": [
       "<Figure size 432x288 with 1 Axes>"
      ]
     },
     "metadata": {
      "needs_background": "light"
     },
     "output_type": "display_data"
    }
   ],
   "source": [
    "learn.recorder.plot()"
   ]
  },
  {
   "cell_type": "code",
   "execution_count": 32,
   "metadata": {},
   "outputs": [
    {
     "data": {
      "text/html": [
       "Total time: 04:00 <p><table style='width:300px; margin-bottom:10px'>\n",
       "  <tr>\n",
       "    <th>epoch</th>\n",
       "    <th>train_loss</th>\n",
       "    <th>valid_loss</th>\n",
       "    <th>accuracy</th>\n",
       "  </tr>\n",
       "  <tr>\n",
       "    <th>1</th>\n",
       "    <th>1.283231</th>\n",
       "    <th>0.626813</th>\n",
       "    <th>0.806559</th>\n",
       "  </tr>\n",
       "</table>\n"
      ],
      "text/plain": [
       "<IPython.core.display.HTML object>"
      ]
     },
     "metadata": {},
     "output_type": "display_data"
    }
   ],
   "source": [
    "learn.fit_one_cycle(1, 1e-2, moms=(0.8,0.7))"
   ]
  },
  {
   "cell_type": "code",
   "execution_count": 33,
   "metadata": {},
   "outputs": [],
   "source": [
    "learn.save('first')"
   ]
  },
  {
   "cell_type": "code",
   "execution_count": null,
   "metadata": {},
   "outputs": [],
   "source": [
    "learn.load('first');"
   ]
  },
  {
   "cell_type": "code",
   "execution_count": 34,
   "metadata": {},
   "outputs": [
    {
     "data": {
      "text/html": [
       "Total time: 04:29 <p><table style='width:300px; margin-bottom:10px'>\n",
       "  <tr>\n",
       "    <th>epoch</th>\n",
       "    <th>train_loss</th>\n",
       "    <th>valid_loss</th>\n",
       "    <th>accuracy</th>\n",
       "  </tr>\n",
       "  <tr>\n",
       "    <th>1</th>\n",
       "    <th>0.721625</th>\n",
       "    <th>0.563073</th>\n",
       "    <th>0.833776</th>\n",
       "  </tr>\n",
       "</table>\n"
      ],
      "text/plain": [
       "<IPython.core.display.HTML object>"
      ]
     },
     "metadata": {},
     "output_type": "display_data"
    }
   ],
   "source": [
    "learn.freeze_to(-2)\n",
    "learn.fit_one_cycle(1, slice(1e-2/(2.6**4),1e-2), moms=(0.8,0.7))"
   ]
  },
  {
   "cell_type": "code",
   "execution_count": 35,
   "metadata": {},
   "outputs": [],
   "source": [
    "learn.save('second')"
   ]
  },
  {
   "cell_type": "code",
   "execution_count": 8,
   "metadata": {},
   "outputs": [],
   "source": [
    "learn.load('second');"
   ]
  },
  {
   "cell_type": "code",
   "execution_count": 9,
   "metadata": {},
   "outputs": [
    {
     "data": {
      "text/html": [
       "Total time: 11:06 <p><table style='width:300px; margin-bottom:10px'>\n",
       "  <tr>\n",
       "    <th>epoch</th>\n",
       "    <th>train_loss</th>\n",
       "    <th>valid_loss</th>\n",
       "    <th>accuracy</th>\n",
       "  </tr>\n",
       "  <tr>\n",
       "    <th>1</th>\n",
       "    <th>0.608820</th>\n",
       "    <th>0.519886</th>\n",
       "    <th>0.853293</th>\n",
       "  </tr>\n",
       "</table>\n"
      ],
      "text/plain": [
       "<IPython.core.display.HTML object>"
      ]
     },
     "metadata": {},
     "output_type": "display_data"
    }
   ],
   "source": [
    "learn.freeze_to(-3)\n",
    "learn.fit_one_cycle(1, slice(5e-3/(2.6**4),5e-3), moms=(0.8,0.7))"
   ]
  },
  {
   "cell_type": "code",
   "execution_count": 10,
   "metadata": {},
   "outputs": [],
   "source": [
    "learn.save('third')"
   ]
  },
  {
   "cell_type": "code",
   "execution_count": 8,
   "metadata": {},
   "outputs": [],
   "source": [
    "learn.load('third');"
   ]
  },
  {
   "cell_type": "code",
   "execution_count": 9,
   "metadata": {},
   "outputs": [
    {
     "data": {
      "text/html": [
       "Total time: 26:18 <p><table style='width:300px; margin-bottom:10px'>\n",
       "  <tr>\n",
       "    <th>epoch</th>\n",
       "    <th>train_loss</th>\n",
       "    <th>valid_loss</th>\n",
       "    <th>accuracy</th>\n",
       "  </tr>\n",
       "  <tr>\n",
       "    <th>1</th>\n",
       "    <th>0.510231</th>\n",
       "    <th>0.508746</th>\n",
       "    <th>0.862188</th>\n",
       "  </tr>\n",
       "  <tr>\n",
       "    <th>2</th>\n",
       "    <th>0.482355</th>\n",
       "    <th>0.500396</th>\n",
       "    <th>0.869357</th>\n",
       "  </tr>\n",
       "</table>\n"
      ],
      "text/plain": [
       "<IPython.core.display.HTML object>"
      ]
     },
     "metadata": {},
     "output_type": "display_data"
    }
   ],
   "source": [
    "learn.unfreeze()\n",
    "learn.fit_one_cycle(2, slice(1e-3/(2.6**4),1e-3), moms=(0.8,0.7))"
   ]
  },
  {
   "cell_type": "code",
   "execution_count": 10,
   "metadata": {},
   "outputs": [],
   "source": [
    "learn.save('final')"
   ]
  },
  {
   "cell_type": "markdown",
   "metadata": {},
   "source": [
    "### Test the final classifier"
   ]
  },
  {
   "cell_type": "code",
   "execution_count": null,
   "metadata": {},
   "outputs": [],
   "source": [
    "learn.load('final')"
   ]
  },
  {
   "cell_type": "code",
   "execution_count": 11,
   "metadata": {},
   "outputs": [
    {
     "data": {
      "text/html": [
       "<table>  <col width='85%'>  <col width='7.5%'>  <col width='7.5%'>  <tr>\n",
       "    <th>text</th>\n",
       "    <th>target</th>\n",
       "    <th>prediction</th>\n",
       "  </tr>\n",
       "  <tr>\n",
       "    <th>xxbos xxmaj from : dbushong@wang.com ( xxmaj dave xxmaj bushong ) \\n xxmaj subject : xxmaj re : xxmaj more xxmaj cool xxup bmp files ? ? \\n xxmaj organization : xxmaj wang xxmaj labs , xxmaj lowell xxup ma , xxup usa \\n xxmaj distribution : usa \\n xxmaj lines : xxunk \\n\\n xxunk ( xxmaj owen xxmaj adair ) writes : \\n\\n > xxmaj in article < 1993apr20.173506.2288@dlss2</th>\n",
       "    <th>comp.os.ms-windows.misc</th>\n",
       "    <th>comp.os.ms-windows.misc</th>\n",
       "  </tr>\n",
       "  <tr>\n",
       "    <th>xxbos xxmaj from : nfotis@ntua.gr ( xxmaj nick xxup c. xxmaj fotis ) \\n xxmaj subject : ( 27 xxmaj apr 93 ) xxmaj computer xxmaj graphics xxmaj resource xxmaj listing : xxup weekly [ part 1 / 3 ] \\n xxmaj lines : xxunk \\n xxmaj reply - xxmaj to : nfotis@theseas.ntua.gr ( xxmaj nick ( xxmaj nikolaos ) xxmaj fotis ) \\n xxmaj organization : xxmaj national xxmaj</th>\n",
       "    <th>comp.graphics</th>\n",
       "    <th>comp.graphics</th>\n",
       "  </tr>\n",
       "  <tr>\n",
       "    <th>xxbos xxmaj from : nfotis@ntua.gr ( xxmaj nick xxup c. xxmaj fotis ) \\n xxmaj subject : ( 27 xxmaj apr 93 ) xxmaj computer xxmaj graphics xxmaj resource xxmaj listing : xxup weekly [ part 3 / 3 ] \\n xxmaj lines : xxunk \\n xxmaj reply - xxmaj to : nfotis@theseas.ntua.gr ( xxmaj nick ( xxmaj nikolaos ) xxmaj fotis ) \\n xxmaj organization : xxmaj national xxmaj</th>\n",
       "    <th>comp.graphics</th>\n",
       "    <th>comp.graphics</th>\n",
       "  </tr>\n",
       "  <tr>\n",
       "    <th>xxbos xxmaj from : dcr@mail.ast.cam.ac.uk ( xxmaj derek xxup c. xxmaj richardson ) \\n xxmaj subject : xrastool 1.0 part 2 / 2 \\n xxmaj keywords : animation xview raster \\n xxmaj nntp - xxmaj posting - xxmaj host : ioas09.ast.cam.ac.uk \\n xxmaj reply - xxmaj to : dcr@mail.ast.cam.ac.uk \\n xxmaj organization : xxmaj institute of xxmaj astronomy , xxmaj cambridge \\n xxmaj lines : 738 \\n\\n part 2 /</th>\n",
       "    <th>comp.windows.x</th>\n",
       "    <th>comp.os.ms-windows.misc</th>\n",
       "  </tr>\n",
       "  <tr>\n",
       "    <th>xxbos xxmaj from : lee@sq.sq.com ( xxmaj liam xxup r. xxup e. xxmaj quin ) \\n xxmaj subject : xxup open xxup look xxup gui frequently asked questions \\n xxmaj organization : softquad xxmaj inc. , xxmaj toronto , xxmaj canada \\n xxmaj expires : 10 xxmaj jun 1993 xxunk xxup gmt \\n xxmaj lines : 1231 \\n\\n\\n xxmaj frequently - asked questions about the xxup open xxup look xxmaj</th>\n",
       "    <th>comp.windows.x</th>\n",
       "    <th>comp.windows.x</th>\n",
       "  </tr>\n",
       "</table>\n"
      ],
      "text/plain": [
       "<IPython.core.display.HTML object>"
      ]
     },
     "metadata": {},
     "output_type": "display_data"
    }
   ],
   "source": [
    "learn.show_results()"
   ]
  },
  {
   "cell_type": "markdown",
   "metadata": {},
   "source": [
    "Let's try with custom text, I got the following examples from web articles:\n",
    "\n",
    "Computer Graphics"
   ]
  },
  {
   "cell_type": "code",
   "execution_count": 12,
   "metadata": {},
   "outputs": [
    {
     "name": "stderr",
     "output_type": "stream",
     "text": [
      "d:\\projects\\psfastai\\venv_psfastai10gpu_new2\\lib\\site-packages\\fastai\\torch_core.py:72: UserWarning: Tensor is int32: upgrading to int64; for better performance use int64 input\n",
      "  warn('Tensor is int32: upgrading to int64; for better performance use int64 input')\n"
     ]
    },
    {
     "data": {
      "text/plain": [
       "(Category comp.graphics,\n",
       " tensor(1),\n",
       " tensor([3.8907e-04, 6.9232e-01, 2.0178e-02, 2.5804e-01, 2.3603e-03, 9.9421e-04,\n",
       "         1.0496e-02, 1.1623e-04, 1.7132e-04, 7.0885e-05, 2.9429e-04, 9.9567e-04,\n",
       "         1.2701e-02, 1.8646e-04, 2.5873e-04, 1.4428e-04, 1.2017e-04, 2.8042e-05,\n",
       "         6.5282e-05, 7.5731e-05]))"
      ]
     },
     "execution_count": 12,
     "metadata": {},
     "output_type": "execute_result"
    }
   ],
   "source": [
    "text = \"GeForce RTX graphics cards are the fastest in the world, giving PC gamers the very best framerates and experiences in each and every game. Now, RTX is coming to laptops, starting with over 40 new GeForce RTX laptops, in 100-plus configurations, from partners around the world. And like desktop GeForce RTX graphics cards, RTX laptops have the hardware required for real-time ray tracing and AI-enhanced graphics, enabling you to experience immersive, lifelike visual effects anywhere, anytime.\"\n",
    "learn.predict(text)"
   ]
  },
  {
   "cell_type": "markdown",
   "metadata": {},
   "source": [
    "Baseball"
   ]
  },
  {
   "cell_type": "code",
   "execution_count": 13,
   "metadata": {},
   "outputs": [
    {
     "name": "stderr",
     "output_type": "stream",
     "text": [
      "d:\\projects\\psfastai\\venv_psfastai10gpu_new2\\lib\\site-packages\\fastai\\torch_core.py:72: UserWarning: Tensor is int32: upgrading to int64; for better performance use int64 input\n",
      "  warn('Tensor is int32: upgrading to int64; for better performance use int64 input')\n"
     ]
    },
    {
     "data": {
      "text/plain": [
       "(Category rec.sport.baseball,\n",
       " tensor(9),\n",
       " tensor([1.7830e-04, 8.0381e-05, 7.0424e-05, 1.1489e-04, 8.9022e-05, 9.0832e-06,\n",
       "         1.9189e-04, 1.2210e-04, 6.5017e-05, 9.9591e-01, 1.6425e-03, 3.2412e-04,\n",
       "         5.7363e-05, 2.4132e-04, 6.0795e-05, 3.8582e-04, 3.4465e-04, 1.5301e-05,\n",
       "         4.5334e-05, 5.0371e-05]))"
      ]
     },
     "execution_count": 13,
     "metadata": {},
     "output_type": "execute_result"
    }
   ],
   "source": [
    "text = \"The Brewers had no such qualms. They recognized that Grandal perennially ranked among the best catchers in baseball at framing pitches for strikes. They also saw a hitter who made up for often low batting averages with a strong batting eye and solid power numbers. In fact, while J.T. Realmuto was the clear leader among catchers last season, Grandal checked in at No. 2 by Wins Above Replacement.\"\n",
    "learn.predict(text)"
   ]
  },
  {
   "cell_type": "markdown",
   "metadata": {},
   "source": [
    "NHL (Hockey)"
   ]
  },
  {
   "cell_type": "code",
   "execution_count": 14,
   "metadata": {},
   "outputs": [
    {
     "name": "stderr",
     "output_type": "stream",
     "text": [
      "d:\\projects\\psfastai\\venv_psfastai10gpu_new2\\lib\\site-packages\\fastai\\torch_core.py:72: UserWarning: Tensor is int32: upgrading to int64; for better performance use int64 input\n",
      "  warn('Tensor is int32: upgrading to int64; for better performance use int64 input')\n"
     ]
    },
    {
     "data": {
      "text/plain": [
       "(Category rec.sport.hockey,\n",
       " tensor(10),\n",
       " tensor([1.1231e-06, 8.4566e-06, 2.1121e-06, 1.4703e-05, 7.1197e-07, 1.4848e-06,\n",
       "         9.1880e-06, 2.3402e-06, 1.0409e-06, 5.8092e-05, 9.9988e-01, 3.9335e-06,\n",
       "         2.4878e-06, 6.0395e-07, 6.9496e-07, 2.0077e-06, 4.8088e-06, 2.3729e-08,\n",
       "         4.0907e-07, 1.2709e-06]))"
      ]
     },
     "execution_count": 14,
     "metadata": {},
     "output_type": "execute_result"
    }
   ],
   "source": [
    "text = \"Mark Giordano had two goals and an assist in his 800th career game and the Calgary Flames defeated the Arizona Coyotes 7-1 Sunday night. Giordano, the Flames' captain, has 47 points (nine goals, 38 assists) in 45 games this season, second among NHL defensemen and five points behind San Jose's Brent Burns. Matthew Tkachuk scored two goals, and Sean Monahan, Johnny Gaudreau and Sam Bennett also scored for Calgary, which has won five straight and improved to 8-1-1 in its last 10. The Flames lead the Pacific Division by three points over the Sharks. Gaudreau also had an assist, extending his point streak to eight games (eight goals, 10 assists). With 69 points, he ranks second in the league in scoring, six points back of Tampa Bay's Nikita Kucherov.\"\n",
    "learn.predict(text)"
   ]
  },
  {
   "cell_type": "code",
   "execution_count": 15,
   "metadata": {},
   "outputs": [
    {
     "name": "stderr",
     "output_type": "stream",
     "text": [
      "d:\\projects\\psfastai\\venv_psfastai10gpu_new2\\lib\\site-packages\\fastai\\torch_core.py:72: UserWarning: Tensor is int32: upgrading to int64; for better performance use int64 input\n",
      "  warn('Tensor is int32: upgrading to int64; for better performance use int64 input')\n"
     ]
    },
    {
     "data": {
      "text/plain": [
       "(Category rec.sport.hockey,\n",
       " tensor(10),\n",
       " tensor([1.2825e-04, 6.9544e-05, 6.1332e-05, 2.0961e-04, 6.6327e-05, 3.3994e-05,\n",
       "         5.8298e-04, 1.7557e-04, 1.9445e-04, 1.2326e-02, 9.8522e-01, 1.4812e-04,\n",
       "         9.8107e-05, 5.6891e-05, 2.9520e-05, 3.7244e-05, 4.3986e-04, 5.4630e-06,\n",
       "         6.5544e-05, 5.4401e-05]))"
      ]
     },
     "execution_count": 15,
     "metadata": {},
     "output_type": "execute_result"
    }
   ],
   "source": [
    "text = \"Mike Smith got the start in the nets for Calgary in place of red-hot David Rittich. He made 22 saves and improved to 13-9-1. Adin Hill had 19 saves for the Coyotes and fell to 7-5. Calgary surged in front on two goals 68 seconds apart late in the first period. At 16:51, Giordano got the puck in the corner and fired a shot into the top corner from a sharp angle.\"\n",
    "learn.predict(text)"
   ]
  },
  {
   "cell_type": "markdown",
   "metadata": {},
   "source": [
    "Cars"
   ]
  },
  {
   "cell_type": "code",
   "execution_count": 16,
   "metadata": {},
   "outputs": [
    {
     "name": "stderr",
     "output_type": "stream",
     "text": [
      "d:\\projects\\psfastai\\venv_psfastai10gpu_new2\\lib\\site-packages\\fastai\\torch_core.py:72: UserWarning: Tensor is int32: upgrading to int64; for better performance use int64 input\n",
      "  warn('Tensor is int32: upgrading to int64; for better performance use int64 input')\n"
     ]
    },
    {
     "data": {
      "text/plain": [
       "(Category rec.autos,\n",
       " tensor(7),\n",
       " tensor([5.3952e-05, 6.2523e-05, 9.0237e-05, 5.5609e-04, 1.4624e-04, 5.6928e-06,\n",
       "         9.3821e-04, 9.9688e-01, 5.9993e-04, 4.7132e-06, 2.0234e-05, 4.2557e-05,\n",
       "         1.8133e-04, 2.8606e-05, 2.6770e-06, 2.4692e-04, 7.0102e-05, 3.9456e-06,\n",
       "         3.4894e-05, 2.7372e-05]))"
      ]
     },
     "execution_count": 16,
     "metadata": {},
     "output_type": "execute_result"
    }
   ],
   "source": [
    "text = \"Our first impression is that it feels like a fairly mature car; Toyota is billing this car as a premium GT set up for occasional track use. The automaker notes that this is the first global model developed by Toyota Gazoo Racing, which put its stamp on the car throughout the entire development process (and also put a small GR badge on the rear of the car, just below its lightweight composite liftback).\"\n",
    "learn.predict(text)"
   ]
  },
  {
   "cell_type": "markdown",
   "metadata": {},
   "source": [
    "If you want more details, you can obtain a confusion matrix like this:"
   ]
  },
  {
   "cell_type": "code",
   "execution_count": 1,
   "metadata": {},
   "outputs": [],
   "source": [
    "from fastai.vision import ClassificationInterpretation"
   ]
  },
  {
   "cell_type": "code",
   "execution_count": null,
   "metadata": {},
   "outputs": [],
   "source": [
    "doc(ClassificationInterpretation)"
   ]
  },
  {
   "cell_type": "code",
   "execution_count": null,
   "metadata": {},
   "outputs": [],
   "source": [
    "interp = ClassificationInterpretation.from_learner(learn)"
   ]
  },
  {
   "cell_type": "code",
   "execution_count": null,
   "metadata": {},
   "outputs": [],
   "source": [
    "interp.plot_confusion_matrix(figsize=(12,12), dpi=60)"
   ]
  },
  {
   "cell_type": "markdown",
   "metadata": {},
   "source": [
    "the most confused one:"
   ]
  },
  {
   "cell_type": "code",
   "execution_count": null,
   "metadata": {},
   "outputs": [],
   "source": [
    "interp.most_confused(min_val=20)"
   ]
  },
  {
   "cell_type": "markdown",
   "metadata": {},
   "source": [
    "if you want to know the items with more loss:"
   ]
  },
  {
   "cell_type": "code",
   "execution_count": null,
   "metadata": {},
   "outputs": [],
   "source": [
    "tl_val, tl_idx = interp.top_losses(10)"
   ]
  },
  {
   "cell_type": "code",
   "execution_count": 4,
   "metadata": {},
   "outputs": [
    {
     "ename": "NameError",
     "evalue": "name 'tl_val' is not defined",
     "output_type": "error",
     "traceback": [
      "\u001b[1;31m---------------------------------------------------------------------------\u001b[0m",
      "\u001b[1;31mNameError\u001b[0m                                 Traceback (most recent call last)",
      "\u001b[1;32m<ipython-input-4-4ade59654b96>\u001b[0m in \u001b[0;36m<module>\u001b[1;34m\u001b[0m\n\u001b[1;32m----> 1\u001b[1;33m \u001b[0mzip\u001b[0m\u001b[1;33m(\u001b[0m\u001b[0mtl_val\u001b[0m\u001b[1;33m,\u001b[0m \u001b[0mtl_idx\u001b[0m\u001b[1;33m)\u001b[0m\u001b[1;33m\u001b[0m\u001b[0m\n\u001b[0m",
      "\u001b[1;31mNameError\u001b[0m: name 'tl_val' is not defined"
     ]
    }
   ],
   "source": [
    "zip(tl_val, tl_idx)"
   ]
  },
  {
   "cell_type": "code",
   "execution_count": null,
   "metadata": {},
   "outputs": [],
   "source": [
    "from IPython.display import display, HTML\n",
    "max_len=100\n",
    "items = [['text', 'prediction', 'actual', 'loss', 'probability']]\n",
    "for i, idx in enumerate(tl_idx):\n",
    "    txt, target = learn.data.valid_ds[idx]\n",
    "    pred, cls_idx, probs = learn.predict(txt)\n",
    "    loss = float(tl_val[i])\n",
    "    prob = to_np(probs[cls_idx])\n",
    "    txt_x = ' '.join(txt.text.split(' ')[:max_len])\n",
    "    items.append([str(txt_x), str(pred), str(target), str(loss), str(prob)])\n",
    "display(HTML(text2html_table(items, ([80,10,10]))))"
   ]
  },
  {
   "cell_type": "markdown",
   "metadata": {},
   "source": [
    "### Prepare for production"
   ]
  },
  {
   "cell_type": "markdown",
   "metadata": {},
   "source": [
    "Export for visualization in Netron"
   ]
  },
  {
   "cell_type": "code",
   "execution_count": null,
   "metadata": {},
   "outputs": [],
   "source": [
    "torch.save(learn.model[0], DATA_PATH/'models'/'model_lm_netron.pth')\n",
    "torch.save(learn.model[1], DATA_PATH/'models'/'model_classifier_netron.pth')"
   ]
  },
  {
   "cell_type": "markdown",
   "metadata": {},
   "source": [
    "Export for use in a Docker Image. We serialize the final model and its metadata, in order to be easily loaded and used in a containerized production environment. The following parameters should match the one used to train the model.\n",
    "\n",
    "*In this specific example* most of them are fastai default values, so I got them from fastai library source code."
   ]
  },
  {
   "cell_type": "code",
   "execution_count": null,
   "metadata": {},
   "outputs": [],
   "source": [
    "drop_mult=0.5\n",
    "dps = default_dropout['classifier'] * drop_mult\n",
    "bptt=70\n",
    "emb_sz=400\n",
    "nh=1150\n",
    "nl=3\n",
    "pad_token=1\n",
    "qrnn=False\n",
    "max_len=70*20\n",
    "lin_ftrs = [50]\n",
    "ps = [0.1]\n",
    "vocab_size = len(data_clas.vocab.itos)\n",
    "n_class = len(data_clas.classes)\n",
    "layers = [emb_sz*3] + lin_ftrs + [n_class]\n",
    "ps = [dps[4]] + ps"
   ]
  },
  {
   "cell_type": "code",
   "execution_count": null,
   "metadata": {},
   "outputs": [],
   "source": [
    "torch.save(\n",
    "    { \"model\": learn.model.state_dict(), \n",
    "      \"model_params\": {\n",
    "          \"drop_mult\": drop_mult,\n",
    "          \"dps\": dps,\n",
    "          \"bptt\": bptt,\n",
    "          \"emb_sz\": emb_sz,\n",
    "          \"nh\": nh,\n",
    "          \"nl\": nl,\n",
    "          \"pad_token\": pad_token,\n",
    "          \"qrnn\": qrnn,\n",
    "          \"max_len\": max_len,\n",
    "          \"lin_ftrs\": lin_ftrs,\n",
    "          \"ps\": ps,\n",
    "          \"vocab_size\": vocab_size,\n",
    "          \"n_class\": n_class,\n",
    "          \"layers\": layers,\n",
    "          \"ps\": ps},\n",
    "      \"vocab\": data_clas.vocab.itos,\n",
    "      \"classes\": data_clas.classes\n",
    "    }, DATA_PATH/'models'/'final_for_prod.pth')"
   ]
  },
  {
   "cell_type": "markdown",
   "metadata": {},
   "source": [
    "### Scoring script"
   ]
  },
  {
   "cell_type": "markdown",
   "metadata": {},
   "source": [
    "We need to prepare a script for model evaluation to run in a Docker image. The scoring script, called `score.py`, will used by a web service call to make predictions using the trained model. We first prepare a script to work from the command line, later we'll apply few changes to make it working in Azure Machine Learning Services. \n",
    "\n",
    "We must include two required functions into the scoring script:\n",
    "\n",
    "- The `init()` function, which typically loads the model and its metadata into a global object. This function is run only once when the Docker container is started.\n",
    "- The `run(input_data)` function uses the model to predict a value based on the input data. Inputs and outputs to the run typically use JSON for serialization and de-serialization, but other formats can be supported.\n",
    "\n",
    "The following script is derived from Fast.AI text learner internal implementation. When we are in production, we do not usually need to have the whole Fast.AI helpers, DataBunch, Learners, and so on. So, we have to extract the key components provided by Fast.AI and use them to replicate the same processing pipeline performed implicitly by the learner."
   ]
  },
  {
   "cell_type": "code",
   "execution_count": null,
   "metadata": {},
   "outputs": [],
   "source": [
    "PRODUCTION_PATH = Path('./production')\n",
    "PRODUCTION_PATH.mkdir(exist_ok=True)"
   ]
  },
  {
   "cell_type": "code",
   "execution_count": null,
   "metadata": {},
   "outputs": [],
   "source": [
    "%%writefile ./production/score_cmd.py\n",
    "from fastai.text import *\n",
    "from html.parser import HTMLParser\n",
    "\n",
    "class HTMLTextExtractor(html.parser.HTMLParser):\n",
    "    def __init__(self):\n",
    "        super(HTMLTextExtractor, self).__init__()\n",
    "        self.result = [ ]\n",
    "\n",
    "    def handle_data(self, d):\n",
    "        self.result.append(d)\n",
    "\n",
    "    def get_text(self):\n",
    "        return ''.join(self.result)\n",
    "    \n",
    "    def error(self, message):\n",
    "        return\n",
    "\n",
    "def html_to_text(html):\n",
    "    s = HTMLTextExtractor()    \n",
    "    try:\n",
    "        s.feed(html)\n",
    "        return s.get_text()\n",
    "    except:\n",
    "        return html\n",
    "\n",
    "def custom_tagstrip(x:str) -> str:\n",
    "    \"Remove all html tags in `x`.\"\n",
    "    return html_to_text(x)\n",
    "\n",
    "def load_model(classifier_filename):\n",
    "    \"\"\"Load the classifier and related metadata\"\"\"\n",
    "    \n",
    "    device = torch.device('cuda') if torch.cuda.is_available() else torch.device('cpu')\n",
    "    \n",
    "    state = torch.load(Path(classifier_filename).open('rb'), map_location=device)\n",
    "    \n",
    "    if set(state.keys()) == {'model', 'model_params', 'vocab', 'classes'}:\n",
    "        model_state = state['model']\n",
    "        model_params = state['model_params']\n",
    "        itos = state['vocab']\n",
    "        classes = state['classes']\n",
    "    else:\n",
    "        raise RuntimeError(\"Invalid model provided.\")\n",
    "            \n",
    "    # Turn it into a string to int mapping (which is what we need)\n",
    "    stoi = collections.defaultdict(lambda:0, {str(v):int(k) for k,v in enumerate(itos)})\n",
    "    \n",
    "    # Get model reference from parameters (even if they are not used at runtime)\n",
    "    model = get_rnn_classifier(model_params['bptt'],\n",
    "                               model_params['max_len'],\n",
    "                               model_params['n_class'],\n",
    "                               model_params['vocab_size'], \n",
    "                               model_params['emb_sz'],\n",
    "                               model_params['nh'],\n",
    "                               model_params['nl'],\n",
    "                               model_params['pad_token'],\n",
    "                               model_params['layers'],\n",
    "                               model_params['ps'],\n",
    "                               input_p=model_params['dps'][0],\n",
    "                               weight_p=model_params['dps'][1],\n",
    "                               embed_p=model_params['dps'][2],\n",
    "                               hidden_p=model_params['dps'][3],\n",
    "                               qrnn=model_params['qrnn'])\n",
    "\n",
    "    # Load the trained classifier\n",
    "    model.load_state_dict(model_state)\n",
    "    \n",
    "    # Put the classifier into evaluation mode\n",
    "    model.reset()\n",
    "    model.eval()\n",
    "\n",
    "    return stoi, classes, model\n",
    "\n",
    "def predict_text(stoi, model, lang, text):\n",
    "    \"\"\"Do the actual prediction on the text using the model and mapping files passed\"\"\"\n",
    "\n",
    "    # Predictions are done on arrays of input.\n",
    "    # We only have a single input, so turn it into a 1x1 array\n",
    "    texts = [text]\n",
    "\n",
    "    # Tokenize using the FastAI wrapper around spaCy\n",
    "    pre_rules = [custom_tagstrip] + defaults.text_pre_rules\n",
    "    tokens = Tokenizer(lang=lang, pre_rules=pre_rules, n_cpus=1).process_all(texts)\n",
    "\n",
    "    # Turn into integers for each word\n",
    "    encoded = np.array([[stoi[o] for o in p] for p in tokens], dtype=np.int64)\n",
    "    \n",
    "    # Turn this array into a tensor\n",
    "    data = torch.from_numpy(encoded)\n",
    "\n",
    "    # Do the predictions\n",
    "    predictions = model(data)\n",
    "    \n",
    "    # Get class probability from classifier predictions\n",
    "    res = F.softmax(predictions[0], -1).detach().cpu().numpy()\n",
    "    \n",
    "    return res[0]\n",
    "\n",
    "def init():\n",
    "    global stoi\n",
    "    global classes\n",
    "    global model\n",
    "    \n",
    "    # Retrieve the path to the model file using the model name\n",
    "    model_path = \"../../datasets/20news/models/final_for_prod.pth\"\n",
    "    stoi, classes, model = load_model(model_path)\n",
    "\n",
    "def run(raw_data):\n",
    "    deser_obj = raw_data\n",
    "    lang = deser_obj['lang']\n",
    "    text = deser_obj['text']\n",
    "    \n",
    "    # Make prediction  \n",
    "    scores = predict_text(stoi, model, lang, text)\n",
    "    pred_class = np.argmax(scores)\n",
    "    \n",
    "    print(f\"Class: {classes[pred_class]} ({scores[pred_class]})\")\n",
    "    \n",
    "    # You can return any data type as long as it is JSON-serializable\n",
    "    return { \"label\": classes[pred_class], \"label_index\": pred_class, \"label_score\": scores[pred_class], \"all_scores\": scores }\n",
    "\n",
    "if __name__ == '__main__':\n",
    "    init()\n",
    "    run({\"lang\": sys.argv[1], \"text\": sys.argv[2]})"
   ]
  },
  {
   "cell_type": "code",
   "execution_count": null,
   "metadata": {},
   "outputs": [],
   "source": []
  }
 ],
 "metadata": {
  "kernelspec": {
   "display_name": "Python 3",
   "language": "python",
   "name": "python3"
  },
  "language_info": {
   "codemirror_mode": {
    "name": "ipython",
    "version": 3
   },
   "file_extension": ".py",
   "mimetype": "text/x-python",
   "name": "python",
   "nbconvert_exporter": "python",
   "pygments_lexer": "ipython3",
   "version": "3.6.6"
  }
 },
 "nbformat": 4,
 "nbformat_minor": 2
}
